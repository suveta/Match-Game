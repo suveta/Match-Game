{
 "cells": [
  {
   "cell_type": "code",
   "execution_count": 15,
   "id": "594ebb6e-f92e-4258-ab9f-1c21e391a751",
   "metadata": {},
   "outputs": [
    {
     "name": "stdout",
     "output_type": "stream",
     "text": [
      "tas 1 : \n",
      "|||||||||||||||||||||||||||||||||||||||||||||||||||||||||||||||||||||||||||||||||||||||||||||||||||||||||||||||||||||||||||||\n",
      "\n",
      "tas 2 : \n",
      "|||||||||||||||||||||||||||||||||||||||||||||||||||||||||||||||||||||||||||||||||||||||||||||||||||||||||||||||||||||||||||||\n",
      "\n"
     ]
    }
   ],
   "source": [
    "from typing import List\n",
    "\n",
    "#30 F\n",
    "#100 M\n",
    "#220 D\n",
    "\n",
    "def game_grid(nb_allumettes:int) -> str:\n",
    "    \"\"\"\n",
    "    DOCSTRING\n",
    "    \"\"\"\n",
    "    tas1, tas2 = \"|\"*(nb_allumettes//2), \"|\"*(nb_allumettes//2)\n",
    "    return [tas1, tas2]\n",
    "\n",
    "def print_game_grid(grid:List[str]) -> str:\n",
    "    \"\"\"\n",
    "    DOCSTRING\n",
    "    \"\"\"\n",
    "    for index,heap in enumerate(grid):\n",
    "        print(f\"tas {index+1} : \\n{heap}\\n\")\n",
    "    \n",
    "print_game_grid(game_grid(250))"
   ]
  },
  {
   "cell_type": "code",
   "execution_count": 7,
   "id": "b5f43101-4b52-43d7-9e6a-f7352a9aee6b",
   "metadata": {},
   "outputs": [
    {
     "ename": "SyntaxError",
     "evalue": "invalid syntax (3190214233.py, line 3)",
     "output_type": "error",
     "traceback": [
      "\u001b[0;36m  Input \u001b[0;32mIn [7]\u001b[0;36m\u001b[0m\n\u001b[0;31m    while (nb_allumette != 0){\u001b[0m\n\u001b[0m                             ^\u001b[0m\n\u001b[0;31mSyntaxError\u001b[0m\u001b[0;31m:\u001b[0m invalid syntax\n"
     ]
    }
   ],
   "source": [
    "def jeu_deux_joueurs(nb_allumette):\n",
    "    inter = interface(nb_allumette)\n",
    "    while (nb_allumette != 0){\n",
    "        \n",
    "    }\n",
    "    "
   ]
  },
  {
   "cell_type": "code",
   "execution_count": null,
   "id": "5f9bdce1-d1b9-4777-b5a2-c2695bb33b10",
   "metadata": {},
   "outputs": [],
   "source": []
  }
 ],
 "metadata": {
  "kernelspec": {
   "display_name": "Python 3 (ipykernel)",
   "language": "python",
   "name": "python3"
  },
  "language_info": {
   "codemirror_mode": {
    "name": "ipython",
    "version": 3
   },
   "file_extension": ".py",
   "mimetype": "text/x-python",
   "name": "python",
   "nbconvert_exporter": "python",
   "pygments_lexer": "ipython3",
   "version": "3.8.10"
  }
 },
 "nbformat": 4,
 "nbformat_minor": 5
}
